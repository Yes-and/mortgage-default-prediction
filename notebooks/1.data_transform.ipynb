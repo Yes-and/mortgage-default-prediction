{
 "cells": [
  {
   "cell_type": "markdown",
   "id": "c3920a3b",
   "metadata": {},
   "source": [
    "# Transforming the data, so that a model can be trained\n",
    "\n",
    "We will have to transform the dataframe, so that we have rows that contain twelve months of information.\n",
    "\n",
    "This will be achieved by creating dataframes for each id. From those dataframes, twelve month windows will be made into singular rows, for which the result of the loan will be known.\n",
    "\n",
    "For example, rows 12 to 23 may be selected. From this range, values from a random row will be made into a new one, and the final result will be added as a column.\n",
    "\n",
    "The new row will be added to a new dataset. From this dataset, we will split the data for training and testing. Later, a cross-validation may be implemented"
   ]
  },
  {
   "cell_type": "code",
   "execution_count": 10,
   "id": "1bca3493",
   "metadata": {},
   "outputs": [],
   "source": [
    "import random\n",
    "\n",
    "import pandas as pd\n",
    "import numpy as np\n",
    "\n",
    "path_to_csv = \"../data/mortgage_sample.csv\"\n",
    "df = pd.read_csv(path_to_csv)"
   ]
  },
  {
   "cell_type": "code",
   "execution_count": 3,
   "id": "9866eece",
   "metadata": {},
   "outputs": [],
   "source": [
    "# Create a subset for a specified ID\n",
    "def create_subset(df, borrower_id):\n",
    "    subset_df = df.loc[df[\"id\"] == borrower_id]\n",
    "    return subset_df\n",
    "\n",
    "# Split subset into twelve-month long windows (or less)\n",
    "def split_subset(subset_df, window_length=12):\n",
    "    subset_len = subset_df.shape[0]\n",
    "    \n",
    "    windows = list()\n",
    "    \n",
    "    # TODO find a more clever way to do this than using a while loop\n",
    "    current = 0\n",
    "    while current < subset_len:\n",
    "        window = subset_df.iloc[current:current+window_length if current+window_length < subset_len else subset_len]\n",
    "        windows.append(window)\n",
    "        current += 12\n",
    "        \n",
    "    return windows\n",
    "        \n",
    "def create_usable_row(window_df, include_result=True):\n",
    "    window_len = window_df.shape[0]\n",
    "    if window_len > 2:\n",
    "    \n",
    "        chosen_row = window_df.iloc[[random.randint(0, window_len-2)]].to_dict()\n",
    "        last_row = window_df.iloc[[window_len-1]].to_dict()\n",
    "\n",
    "        # We will use the same methodology as the original dataset\n",
    "        # Meaning 1 is a default, 2 is a payoff and 0 means nothing changed\n",
    "        if include_result:\n",
    "            chosen_row[\"result\"] = {\n",
    "                list(chosen_row[\"id\"].keys())[0]:\n",
    "                list(last_row[\"default_time\"].values())[0]\n",
    "            }\n",
    "\n",
    "        # return [list(dictionary.values())[0] for dictionary in list(chosen_row.values())]\n",
    "        return pd.DataFrame(chosen_row)"
   ]
  },
  {
   "cell_type": "code",
   "execution_count": 11,
   "id": "dfb32345",
   "metadata": {},
   "outputs": [],
   "source": [
    "# drop the null values\n",
    "df = df.dropna(axis=0)\n",
    "# df = df[df[\"sample\"] == \"public\"]"
   ]
  },
  {
   "cell_type": "code",
   "execution_count": 7,
   "id": "a805d41f",
   "metadata": {},
   "outputs": [
    {
     "name": "stderr",
     "output_type": "stream",
     "text": [
      "C:\\Users\\vojte\\AppData\\Local\\Temp\\ipykernel_6248\\4094305794.py:13: FutureWarning: The frame.append method is deprecated and will be removed from pandas in a future version. Use pandas.concat instead.\n",
      "  output_df = output_df.append(usable_df, ignore_index=True)\n"
     ]
    }
   ],
   "source": [
    "unique_ids = list(df.id.unique())\n",
    "\n",
    "output_df = pd.DataFrame()\n",
    "\n",
    "for borrower_id in unique_ids:\n",
    "    subset_df = create_subset(df=df, borrower_id=borrower_id)\n",
    "    windows = split_subset(subset_df=subset_df)\n",
    "    for window_df in windows:\n",
    "        usable_df = create_usable_row(window_df=window_df)\n",
    "        \n",
    "        # output_df.loc[-1] = usable_df\n",
    "        # output_df.reset_index(drop=True)\n",
    "        output_df = output_df.append(usable_df, ignore_index=True)"
   ]
  },
  {
   "cell_type": "code",
   "execution_count": 8,
   "id": "be7a2e25",
   "metadata": {},
   "outputs": [],
   "source": [
    "path_to_output = \"../data/mortgage_default_transformed.csv\"\n",
    "output_df.to_csv(path_to_output)"
   ]
  }
 ],
 "metadata": {
  "kernelspec": {
   "display_name": "Python 3 (ipykernel)",
   "language": "python",
   "name": "python3"
  },
  "language_info": {
   "codemirror_mode": {
    "name": "ipython",
    "version": 3
   },
   "file_extension": ".py",
   "mimetype": "text/x-python",
   "name": "python",
   "nbconvert_exporter": "python",
   "pygments_lexer": "ipython3",
   "version": "3.10.0"
  }
 },
 "nbformat": 4,
 "nbformat_minor": 5
}
