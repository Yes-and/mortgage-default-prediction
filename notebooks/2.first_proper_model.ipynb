{
 "cells": [
  {
   "cell_type": "markdown",
   "id": "7128caf3",
   "metadata": {},
   "source": [
    "# Create an XGBoost model\n",
    "\n",
    "Using the data created in the previous notebook, we will try to predict the probability of default in the next twelve months. Other situations, such as loan ongoing and loan being repaid will be counted as a non-default"
   ]
  },
  {
   "cell_type": "code",
   "execution_count": 1,
   "id": "501d6223",
   "metadata": {},
   "outputs": [],
   "source": [
    "import numpy as np\n",
    "import pandas as pd\n",
    "\n",
    "path_to_csv = \"../data/mortgage_default_transformed.csv\"\n",
    "df = pd.read_csv(path_to_csv)\n",
    "df.set_index(df.pop(\"Unnamed: 0\"), inplace=True)\n",
    "\n",
    "X = df.dropna(axis=0)\n",
    "y = X.pop(\"result\")"
   ]
  },
  {
   "cell_type": "code",
   "execution_count": 2,
   "id": "dfa65f35",
   "metadata": {},
   "outputs": [],
   "source": [
    "# custom features\n",
    "X[\"time_since_start\"] = X.time - X.orig_time\n",
    "X[\"time_until_end\"] = X.mat_time - X.time\n",
    "X[\"mortgage_duration\"] = X.mat_time - X.orig_time\n",
    "X[\"balance_change\"] = X.balance_time-X.balance_orig_time\n",
    "X[\"LTV_change\"] = X.LTV_time - X.LTV_orig_time\n",
    "X[\"interest_change\"] = X.interest_rate_time - X.Interest_Rate_orig_time\n",
    "# X[\"interest_change_as_fraction\"] = X.interest_change / X.Interest_Rate_orig_time\n",
    "X[\"hpi_change\"] = X.hpi_time - X.hpi_orig_time"
   ]
  },
  {
   "cell_type": "code",
   "execution_count": 3,
   "id": "94741cf6",
   "metadata": {},
   "outputs": [],
   "source": [
    "# select useful columns\n",
    "used_columns = [\n",
    "    \"time_since_start\", \"time_until_end\", \"mortgage_duration\",\n",
    "    \"balance_time\", \"balance_orig_time\", \"balance_change\",\n",
    "    \"LTV_time\", \"LTV_orig_time\", \"LTV_change\",\n",
    "    \"interest_rate_time\", \"Interest_Rate_orig_time\", \"interest_change\",\n",
    "    #\"interest_change_as_fraction\",\n",
    "    \"hpi_time\", \"hpi_orig_time\",\n",
    "    \"hpi_change\", \"uer_time\"\n",
    "]"
   ]
  },
  {
   "cell_type": "code",
   "execution_count": 4,
   "id": "9d32ea96",
   "metadata": {},
   "outputs": [
    {
     "data": {
      "text/html": [
       "<div>\n",
       "<style scoped>\n",
       "    .dataframe tbody tr th:only-of-type {\n",
       "        vertical-align: middle;\n",
       "    }\n",
       "\n",
       "    .dataframe tbody tr th {\n",
       "        vertical-align: top;\n",
       "    }\n",
       "\n",
       "    .dataframe thead th {\n",
       "        text-align: right;\n",
       "    }\n",
       "</style>\n",
       "<table border=\"1\" class=\"dataframe\">\n",
       "  <thead>\n",
       "    <tr style=\"text-align: right;\">\n",
       "      <th></th>\n",
       "      <th>time_since_start</th>\n",
       "      <th>time_until_end</th>\n",
       "      <th>mortgage_duration</th>\n",
       "      <th>balance_time</th>\n",
       "      <th>balance_orig_time</th>\n",
       "      <th>balance_change</th>\n",
       "      <th>LTV_time</th>\n",
       "      <th>LTV_orig_time</th>\n",
       "      <th>LTV_change</th>\n",
       "      <th>interest_rate_time</th>\n",
       "      <th>Interest_Rate_orig_time</th>\n",
       "      <th>interest_change</th>\n",
       "      <th>hpi_time</th>\n",
       "      <th>hpi_orig_time</th>\n",
       "      <th>hpi_change</th>\n",
       "      <th>uer_time</th>\n",
       "    </tr>\n",
       "    <tr>\n",
       "      <th>Unnamed: 0</th>\n",
       "      <th></th>\n",
       "      <th></th>\n",
       "      <th></th>\n",
       "      <th></th>\n",
       "      <th></th>\n",
       "      <th></th>\n",
       "      <th></th>\n",
       "      <th></th>\n",
       "      <th></th>\n",
       "      <th></th>\n",
       "      <th></th>\n",
       "      <th></th>\n",
       "      <th></th>\n",
       "      <th></th>\n",
       "      <th></th>\n",
       "      <th></th>\n",
       "    </tr>\n",
       "  </thead>\n",
       "  <tbody>\n",
       "    <tr>\n",
       "      <th>0</th>\n",
       "      <td>33</td>\n",
       "      <td>87</td>\n",
       "      <td>120</td>\n",
       "      <td>41061.95</td>\n",
       "      <td>45000.0</td>\n",
       "      <td>-3938.05</td>\n",
       "      <td>24.483867</td>\n",
       "      <td>69.4</td>\n",
       "      <td>-44.916133</td>\n",
       "      <td>9.20</td>\n",
       "      <td>9.2</td>\n",
       "      <td>0.00</td>\n",
       "      <td>225.10</td>\n",
       "      <td>87.03</td>\n",
       "      <td>138.07</td>\n",
       "      <td>4.7</td>\n",
       "    </tr>\n",
       "    <tr>\n",
       "      <th>1</th>\n",
       "      <td>51</td>\n",
       "      <td>69</td>\n",
       "      <td>120</td>\n",
       "      <td>30585.43</td>\n",
       "      <td>45000.0</td>\n",
       "      <td>-14414.57</td>\n",
       "      <td>27.202731</td>\n",
       "      <td>69.4</td>\n",
       "      <td>-42.197269</td>\n",
       "      <td>9.20</td>\n",
       "      <td>9.2</td>\n",
       "      <td>0.00</td>\n",
       "      <td>150.91</td>\n",
       "      <td>87.03</td>\n",
       "      <td>63.88</td>\n",
       "      <td>9.2</td>\n",
       "    </tr>\n",
       "    <tr>\n",
       "      <th>2</th>\n",
       "      <td>28</td>\n",
       "      <td>93</td>\n",
       "      <td>121</td>\n",
       "      <td>60882.42</td>\n",
       "      <td>63750.0</td>\n",
       "      <td>-2867.58</td>\n",
       "      <td>34.007232</td>\n",
       "      <td>81.8</td>\n",
       "      <td>-47.792768</td>\n",
       "      <td>10.50</td>\n",
       "      <td>10.5</td>\n",
       "      <td>0.00</td>\n",
       "      <td>225.10</td>\n",
       "      <td>97.99</td>\n",
       "      <td>127.11</td>\n",
       "      <td>4.7</td>\n",
       "    </tr>\n",
       "    <tr>\n",
       "      <th>3</th>\n",
       "      <td>39</td>\n",
       "      <td>82</td>\n",
       "      <td>121</td>\n",
       "      <td>59023.80</td>\n",
       "      <td>63750.0</td>\n",
       "      <td>-4726.20</td>\n",
       "      <td>48.394751</td>\n",
       "      <td>81.8</td>\n",
       "      <td>-33.405249</td>\n",
       "      <td>9.25</td>\n",
       "      <td>10.5</td>\n",
       "      <td>-1.25</td>\n",
       "      <td>153.35</td>\n",
       "      <td>97.99</td>\n",
       "      <td>55.36</td>\n",
       "      <td>9.0</td>\n",
       "    </tr>\n",
       "    <tr>\n",
       "      <th>4</th>\n",
       "      <td>60</td>\n",
       "      <td>61</td>\n",
       "      <td>121</td>\n",
       "      <td>53400.71</td>\n",
       "      <td>63750.0</td>\n",
       "      <td>-10349.29</td>\n",
       "      <td>35.644306</td>\n",
       "      <td>81.8</td>\n",
       "      <td>-46.155694</td>\n",
       "      <td>10.50</td>\n",
       "      <td>10.5</td>\n",
       "      <td>0.00</td>\n",
       "      <td>188.37</td>\n",
       "      <td>97.99</td>\n",
       "      <td>90.38</td>\n",
       "      <td>6.2</td>\n",
       "    </tr>\n",
       "  </tbody>\n",
       "</table>\n",
       "</div>"
      ],
      "text/plain": [
       "            time_since_start  time_until_end  mortgage_duration  balance_time  \\\n",
       "Unnamed: 0                                                                      \n",
       "0                         33              87                120      41061.95   \n",
       "1                         51              69                120      30585.43   \n",
       "2                         28              93                121      60882.42   \n",
       "3                         39              82                121      59023.80   \n",
       "4                         60              61                121      53400.71   \n",
       "\n",
       "            balance_orig_time  balance_change   LTV_time  LTV_orig_time  \\\n",
       "Unnamed: 0                                                                \n",
       "0                     45000.0        -3938.05  24.483867           69.4   \n",
       "1                     45000.0       -14414.57  27.202731           69.4   \n",
       "2                     63750.0        -2867.58  34.007232           81.8   \n",
       "3                     63750.0        -4726.20  48.394751           81.8   \n",
       "4                     63750.0       -10349.29  35.644306           81.8   \n",
       "\n",
       "            LTV_change  interest_rate_time  Interest_Rate_orig_time  \\\n",
       "Unnamed: 0                                                            \n",
       "0           -44.916133                9.20                      9.2   \n",
       "1           -42.197269                9.20                      9.2   \n",
       "2           -47.792768               10.50                     10.5   \n",
       "3           -33.405249                9.25                     10.5   \n",
       "4           -46.155694               10.50                     10.5   \n",
       "\n",
       "            interest_change  hpi_time  hpi_orig_time  hpi_change  uer_time  \n",
       "Unnamed: 0                                                                  \n",
       "0                      0.00    225.10          87.03      138.07       4.7  \n",
       "1                      0.00    150.91          87.03       63.88       9.2  \n",
       "2                      0.00    225.10          97.99      127.11       4.7  \n",
       "3                     -1.25    153.35          97.99       55.36       9.0  \n",
       "4                      0.00    188.37          97.99       90.38       6.2  "
      ]
     },
     "execution_count": 4,
     "metadata": {},
     "output_type": "execute_result"
    }
   ],
   "source": [
    "X_data = X.loc[:, used_columns]\n",
    "X_data.head()"
   ]
  },
  {
   "cell_type": "code",
   "execution_count": 5,
   "id": "05058b48",
   "metadata": {},
   "outputs": [],
   "source": [
    "# split the data for testing the model\n",
    "from sklearn.model_selection import train_test_split\n",
    "\n",
    "X_train, X_valid, y_train, y_valid = train_test_split(\n",
    "    X_data, y,\n",
    "    train_size=0.7,\n",
    "    test_size=0.3)"
   ]
  },
  {
   "cell_type": "code",
   "execution_count": 6,
   "id": "d8a3b9dd",
   "metadata": {},
   "outputs": [
    {
     "name": "stderr",
     "output_type": "stream",
     "text": [
      "C:\\Users\\vojte\\Documents\\GitHub\\mortgage-default-prediction\\venv\\lib\\site-packages\\xgboost\\compat.py:36: FutureWarning: pandas.Int64Index is deprecated and will be removed from pandas in a future version. Use pandas.Index with the appropriate dtype instead.\n",
      "  from pandas import MultiIndex, Int64Index\n"
     ]
    }
   ],
   "source": [
    "# we will try to select a better model using accuracy scoring\n",
    "from xgboost import XGBClassifier\n",
    "from sklearn.metrics import accuracy_score\n",
    "\n",
    "def score_model(X_train, y_train, X_valid, y_valid, n_estimators, learning_rate=0.1):\n",
    "    model = XGBClassifier(\n",
    "                n_estimators = n_estimators,\n",
    "                learning_rate = learning_rate,\n",
    "                n_jobs = 5,\n",
    "                eval_metric = 'mlogloss'\n",
    "            )\n",
    "    \n",
    "    model.fit(X_train, y_train)\n",
    "    predictions = model.predict(X_valid)\n",
    "    \n",
    "    accuracy = accuracy_score(predictions, y_valid)\n",
    "    return accuracy"
   ]
  },
  {
   "cell_type": "code",
   "execution_count": 8,
   "id": "38f59df3",
   "metadata": {},
   "outputs": [
    {
     "name": "stdout",
     "output_type": "stream",
     "text": [
      "The accuracy with n_estimators is 10 with an accuracy of 0.8278959550314119\n",
      "The accuracy with n_estimators is 25 with an accuracy of 0.825967155295933\n",
      "The accuracy with n_estimators is 36 with an accuracy of 0.8240383555604541\n",
      "The accuracy with n_estimators is 50 with an accuracy of 0.8233219442301334\n",
      "The accuracy with n_estimators is 100 with an accuracy of 0.8210073845475587\n"
     ]
    }
   ],
   "source": [
    "# shut up warnings\n",
    "import warnings\n",
    "warnings.filterwarnings('ignore')\n",
    "warnings.simplefilter('ignore')\n",
    "\n",
    "# we will try different number of estimators to see, which is the best fit\n",
    "estimator_count = [10, 25, 36, 50, 100]\n",
    "\n",
    "last_accuracy = 0\n",
    "for n_estimators in estimator_count:\n",
    "    accuracy = score_model(\n",
    "        X_train, y_train, X_valid, y_valid,\n",
    "        n_estimators=n_estimators,\n",
    "        learning_rate=0.5 # let's speed things up\n",
    "    )\n",
    "    print(f\"The accuracy with n_estimators is {n_estimators} with an accuracy of {accuracy}\")"
   ]
  },
  {
   "cell_type": "code",
   "execution_count": 204,
   "id": "26430fb6",
   "metadata": {},
   "outputs": [
    {
     "name": "stdout",
     "output_type": "stream",
     "text": [
      "Accuracy is 0.8094896946985561\n"
     ]
    }
   ],
   "source": [
    "some_model = XGBClassifier(\n",
    "    n_estimators = 100,\n",
    "    max_depth=5,\n",
    "    learning_rate = 0.01,\n",
    "    reg_alpha = 0.3,\n",
    "    eval_metric = \"rmse\",\n",
    "    scale_pos_weight = 2.1 # this tries to prevent overfitting\n",
    ")\n",
    "some_model.fit(X_train, y_train)\n",
    "predictions = some_model.predict(X_valid)\n",
    "accuracy = accuracy_score(predictions, y_valid)\n",
    "print(f\"Accuracy is {accuracy}\")"
   ]
  },
  {
   "cell_type": "code",
   "execution_count": 202,
   "id": "2f7da4e3",
   "metadata": {},
   "outputs": [],
   "source": [
    "# save the model\n",
    "path_to_model = \"../models/proper_model.json\"\n",
    "some_model.save_model(path_to_model)"
   ]
  },
  {
   "cell_type": "markdown",
   "id": "dea0c46c",
   "metadata": {},
   "source": [
    "This is much better than the previous model, where repayment was a also possible output scenario. By only focusing on the probability of default, we have achieved over 80% accuracy! Let's try calculating the Mean Squared Error next!"
   ]
  },
  {
   "cell_type": "code",
   "execution_count": 10,
   "id": "ffe694c1",
   "metadata": {},
   "outputs": [
    {
     "name": "stdout",
     "output_type": "stream",
     "text": [
      "Accuracy of randomly generated results is 0.4973547889342004\n"
     ]
    }
   ],
   "source": [
    "import random\n",
    "\n",
    "arbitrary_predictions = [random.randint(0,1) for _ in range(y_valid.shape[0])]\n",
    "\n",
    "print(f\"Accuracy of randomly generated results is {accuracy_score(arbitrary_predictions, y_valid)}\")"
   ]
  },
  {
   "cell_type": "markdown",
   "id": "0f123fe4",
   "metadata": {},
   "source": [
    "Just for reference, a randomly generated array of answers would be around 50% accurate at predicting a default. This means, that our model is around 60% better than just randomly guessing. Which is good, but we can make it much better."
   ]
  },
  {
   "cell_type": "code",
   "execution_count": 120,
   "id": "9d14ca02",
   "metadata": {},
   "outputs": [
    {
     "name": "stdout",
     "output_type": "stream",
     "text": [
      "Prediction accuracy is 0.8127962085308057\n"
     ]
    }
   ],
   "source": [
    "hits = 0\n",
    "total = len(y_valid)\n",
    "for val1, val2 in zip(predictions, y_valid):\n",
    "    if val1 == val2:\n",
    "        hits += 1\n",
    "print(f\"Prediction accuracy is {hits/total}\") "
   ]
  },
  {
   "cell_type": "code",
   "execution_count": 121,
   "id": "c9a63138",
   "metadata": {},
   "outputs": [
    {
     "name": "stdout",
     "output_type": "stream",
     "text": [
      "Random guessing results in 0.4973547889342004 accuracy\n"
     ]
    }
   ],
   "source": [
    "rand_hits = 0\n",
    "total = len(y_valid)\n",
    "for val1, val2 in zip(arbitrary_predictions, y_valid):\n",
    "    if val1 == val2:\n",
    "        rand_hits += 1\n",
    "print(f\"Random guessing results in {rand_hits/total} accuracy\")"
   ]
  },
  {
   "cell_type": "code",
   "execution_count": 205,
   "id": "05c7841c",
   "metadata": {},
   "outputs": [
    {
     "name": "stdout",
     "output_type": "stream",
     "text": [
      "The number of defaults compared to the rest of the validation dataset is 0.18400749476468642\n",
      "The number of defaults compared to the rest of the data is 0.18141739226275763\n"
     ]
    }
   ],
   "source": [
    "# make sure that the ML model is not just guessing zeroes\n",
    "sample_default_rate = sum(y_valid)/len(y_valid)\n",
    "print(f\"The number of defaults compared to the rest of the validation dataset is {sample_default_rate}\")\n",
    "default_rate = sum(predictions)/len(predictions)\n",
    "print(f\"The number of defaults compared to the rest of the prediction data is {default_rate}\")"
   ]
  }
 ],
 "metadata": {
  "kernelspec": {
   "display_name": "Python 3 (ipykernel)",
   "language": "python",
   "name": "python3"
  },
  "language_info": {
   "codemirror_mode": {
    "name": "ipython",
    "version": 3
   },
   "file_extension": ".py",
   "mimetype": "text/x-python",
   "name": "python",
   "nbconvert_exporter": "python",
   "pygments_lexer": "ipython3",
   "version": "3.10.0"
  }
 },
 "nbformat": 4,
 "nbformat_minor": 5
}
