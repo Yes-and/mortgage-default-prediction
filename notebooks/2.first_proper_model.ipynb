{
 "cells": [
  {
   "cell_type": "markdown",
   "id": "7128caf3",
   "metadata": {},
   "source": [
    "# Create an XGBoost model\n",
    "\n",
    "Using the data created in the previous notebook, we will try to predict the probability of default in the next twelve months. Other situations, such as loan ongoing and loan being repaid will be counted as a non-default"
   ]
  },
  {
   "cell_type": "code",
   "execution_count": 1,
   "id": "501d6223",
   "metadata": {},
   "outputs": [],
   "source": [
    "import numpy as np\n",
    "import pandas as pd\n",
    "\n",
    "path_to_csv = \"../data/mortgage_default_transformed.csv\"\n",
    "df = pd.read_csv(path_to_csv)\n",
    "df.set_index(df.pop(\"Unnamed: 0\"), inplace=True)\n",
    "\n",
    "X = df.dropna(axis=0)\n",
    "y = X.pop(\"result\")"
   ]
  },
  {
   "cell_type": "code",
   "execution_count": 8,
   "id": "dfa65f35",
   "metadata": {},
   "outputs": [],
   "source": [
    "# custom features\n",
    "X[\"time_since_start\"] = X.time - X.orig_time\n",
    "X[\"time_until_end\"] = X.mat_time - X.time\n",
    "X[\"mortgage_duration\"] = X.mat_time - X.orig_time\n",
    "X[\"balance_change\"] = X.balance_time-X.balance_orig_time\n",
    "X[\"LTV_change\"] = X.LTV_time - X.LTV_orig_time\n",
    "X[\"interest_change\"] = X.interest_rate_time - X.Interest_Rate_orig_time\n",
    "# X[\"interest_change_as_fraction\"] = X.interest_change / X.Interest_Rate_orig_time\n",
    "X[\"hpi_change\"] = X.hpi_time - X.hpi_orig_time"
   ]
  },
  {
   "cell_type": "code",
   "execution_count": 9,
   "id": "94741cf6",
   "metadata": {},
   "outputs": [],
   "source": [
    "# select useful columns\n",
    "used_columns = [\n",
    "    \"time_since_start\", \"time_until_end\", \"mortgage_duration\",\n",
    "    \"balance_time\", \"balance_orig_time\", \"balance_change\",\n",
    "    \"LTV_time\", \"LTV_orig_time\", \"LTV_change\",\n",
    "    \"interest_rate_time\", \"Interest_Rate_orig_time\", \"interest_change\",\n",
    "    #\"interest_change_as_fraction\",\n",
    "    \"hpi_time\", \"hpi_orig_time\",\n",
    "    \"hpi_change\", \"uer_time\"\n",
    "]"
   ]
  },
  {
   "cell_type": "code",
   "execution_count": 10,
   "id": "9d32ea96",
   "metadata": {},
   "outputs": [
    {
     "data": {
      "text/html": [
       "<div>\n",
       "<style scoped>\n",
       "    .dataframe tbody tr th:only-of-type {\n",
       "        vertical-align: middle;\n",
       "    }\n",
       "\n",
       "    .dataframe tbody tr th {\n",
       "        vertical-align: top;\n",
       "    }\n",
       "\n",
       "    .dataframe thead th {\n",
       "        text-align: right;\n",
       "    }\n",
       "</style>\n",
       "<table border=\"1\" class=\"dataframe\">\n",
       "  <thead>\n",
       "    <tr style=\"text-align: right;\">\n",
       "      <th></th>\n",
       "      <th>time_since_start</th>\n",
       "      <th>time_until_end</th>\n",
       "      <th>mortgage_duration</th>\n",
       "      <th>balance_time</th>\n",
       "      <th>balance_orig_time</th>\n",
       "      <th>balance_change</th>\n",
       "      <th>LTV_time</th>\n",
       "      <th>LTV_orig_time</th>\n",
       "      <th>LTV_change</th>\n",
       "      <th>interest_rate_time</th>\n",
       "      <th>Interest_Rate_orig_time</th>\n",
       "      <th>interest_change</th>\n",
       "      <th>hpi_time</th>\n",
       "      <th>hpi_orig_time</th>\n",
       "      <th>hpi_change</th>\n",
       "      <th>uer_time</th>\n",
       "    </tr>\n",
       "    <tr>\n",
       "      <th>Unnamed: 0</th>\n",
       "      <th></th>\n",
       "      <th></th>\n",
       "      <th></th>\n",
       "      <th></th>\n",
       "      <th></th>\n",
       "      <th></th>\n",
       "      <th></th>\n",
       "      <th></th>\n",
       "      <th></th>\n",
       "      <th></th>\n",
       "      <th></th>\n",
       "      <th></th>\n",
       "      <th></th>\n",
       "      <th></th>\n",
       "      <th></th>\n",
       "      <th></th>\n",
       "    </tr>\n",
       "  </thead>\n",
       "  <tbody>\n",
       "    <tr>\n",
       "      <th>0</th>\n",
       "      <td>33</td>\n",
       "      <td>87</td>\n",
       "      <td>120</td>\n",
       "      <td>41061.95</td>\n",
       "      <td>45000.0</td>\n",
       "      <td>-3938.05</td>\n",
       "      <td>24.483867</td>\n",
       "      <td>69.4</td>\n",
       "      <td>-44.916133</td>\n",
       "      <td>9.20</td>\n",
       "      <td>9.2</td>\n",
       "      <td>0.00</td>\n",
       "      <td>225.10</td>\n",
       "      <td>87.03</td>\n",
       "      <td>138.07</td>\n",
       "      <td>4.7</td>\n",
       "    </tr>\n",
       "    <tr>\n",
       "      <th>1</th>\n",
       "      <td>51</td>\n",
       "      <td>69</td>\n",
       "      <td>120</td>\n",
       "      <td>30585.43</td>\n",
       "      <td>45000.0</td>\n",
       "      <td>-14414.57</td>\n",
       "      <td>27.202731</td>\n",
       "      <td>69.4</td>\n",
       "      <td>-42.197269</td>\n",
       "      <td>9.20</td>\n",
       "      <td>9.2</td>\n",
       "      <td>0.00</td>\n",
       "      <td>150.91</td>\n",
       "      <td>87.03</td>\n",
       "      <td>63.88</td>\n",
       "      <td>9.2</td>\n",
       "    </tr>\n",
       "    <tr>\n",
       "      <th>2</th>\n",
       "      <td>28</td>\n",
       "      <td>93</td>\n",
       "      <td>121</td>\n",
       "      <td>60882.42</td>\n",
       "      <td>63750.0</td>\n",
       "      <td>-2867.58</td>\n",
       "      <td>34.007232</td>\n",
       "      <td>81.8</td>\n",
       "      <td>-47.792768</td>\n",
       "      <td>10.50</td>\n",
       "      <td>10.5</td>\n",
       "      <td>0.00</td>\n",
       "      <td>225.10</td>\n",
       "      <td>97.99</td>\n",
       "      <td>127.11</td>\n",
       "      <td>4.7</td>\n",
       "    </tr>\n",
       "    <tr>\n",
       "      <th>3</th>\n",
       "      <td>39</td>\n",
       "      <td>82</td>\n",
       "      <td>121</td>\n",
       "      <td>59023.80</td>\n",
       "      <td>63750.0</td>\n",
       "      <td>-4726.20</td>\n",
       "      <td>48.394751</td>\n",
       "      <td>81.8</td>\n",
       "      <td>-33.405249</td>\n",
       "      <td>9.25</td>\n",
       "      <td>10.5</td>\n",
       "      <td>-1.25</td>\n",
       "      <td>153.35</td>\n",
       "      <td>97.99</td>\n",
       "      <td>55.36</td>\n",
       "      <td>9.0</td>\n",
       "    </tr>\n",
       "    <tr>\n",
       "      <th>4</th>\n",
       "      <td>60</td>\n",
       "      <td>61</td>\n",
       "      <td>121</td>\n",
       "      <td>53400.71</td>\n",
       "      <td>63750.0</td>\n",
       "      <td>-10349.29</td>\n",
       "      <td>35.644306</td>\n",
       "      <td>81.8</td>\n",
       "      <td>-46.155694</td>\n",
       "      <td>10.50</td>\n",
       "      <td>10.5</td>\n",
       "      <td>0.00</td>\n",
       "      <td>188.37</td>\n",
       "      <td>97.99</td>\n",
       "      <td>90.38</td>\n",
       "      <td>6.2</td>\n",
       "    </tr>\n",
       "  </tbody>\n",
       "</table>\n",
       "</div>"
      ],
      "text/plain": [
       "            time_since_start  time_until_end  mortgage_duration  balance_time  \\\n",
       "Unnamed: 0                                                                      \n",
       "0                         33              87                120      41061.95   \n",
       "1                         51              69                120      30585.43   \n",
       "2                         28              93                121      60882.42   \n",
       "3                         39              82                121      59023.80   \n",
       "4                         60              61                121      53400.71   \n",
       "\n",
       "            balance_orig_time  balance_change   LTV_time  LTV_orig_time  \\\n",
       "Unnamed: 0                                                                \n",
       "0                     45000.0        -3938.05  24.483867           69.4   \n",
       "1                     45000.0       -14414.57  27.202731           69.4   \n",
       "2                     63750.0        -2867.58  34.007232           81.8   \n",
       "3                     63750.0        -4726.20  48.394751           81.8   \n",
       "4                     63750.0       -10349.29  35.644306           81.8   \n",
       "\n",
       "            LTV_change  interest_rate_time  Interest_Rate_orig_time  \\\n",
       "Unnamed: 0                                                            \n",
       "0           -44.916133                9.20                      9.2   \n",
       "1           -42.197269                9.20                      9.2   \n",
       "2           -47.792768               10.50                     10.5   \n",
       "3           -33.405249                9.25                     10.5   \n",
       "4           -46.155694               10.50                     10.5   \n",
       "\n",
       "            interest_change  hpi_time  hpi_orig_time  hpi_change  uer_time  \n",
       "Unnamed: 0                                                                  \n",
       "0                      0.00    225.10          87.03      138.07       4.7  \n",
       "1                      0.00    150.91          87.03       63.88       9.2  \n",
       "2                      0.00    225.10          97.99      127.11       4.7  \n",
       "3                     -1.25    153.35          97.99       55.36       9.0  \n",
       "4                      0.00    188.37          97.99       90.38       6.2  "
      ]
     },
     "execution_count": 10,
     "metadata": {},
     "output_type": "execute_result"
    }
   ],
   "source": [
    "X_data = X.loc[:, used_columns]\n",
    "X_data.head()"
   ]
  },
  {
   "cell_type": "code",
   "execution_count": 11,
   "id": "05058b48",
   "metadata": {},
   "outputs": [],
   "source": [
    "# split the data for testing the model\n",
    "from sklearn.model_selection import train_test_split\n",
    "\n",
    "X_train, X_valid, y_train, y_valid = train_test_split(\n",
    "    X_data, y,\n",
    "    train_size=0.7,\n",
    "    test_size=0.3)"
   ]
  },
  {
   "cell_type": "code",
   "execution_count": 12,
   "id": "d8a3b9dd",
   "metadata": {},
   "outputs": [
    {
     "name": "stderr",
     "output_type": "stream",
     "text": [
      "C:\\Users\\vojte\\Documents\\GitHub\\mortgage-default-prediction\\venv\\lib\\site-packages\\xgboost\\compat.py:36: FutureWarning: pandas.Int64Index is deprecated and will be removed from pandas in a future version. Use pandas.Index with the appropriate dtype instead.\n",
      "  from pandas import MultiIndex, Int64Index\n"
     ]
    }
   ],
   "source": [
    "# we will try to select a better model using accuracy scoring\n",
    "from xgboost import XGBClassifier\n",
    "from sklearn.metrics import accuracy_score\n",
    "\n",
    "def score_model(X_train, y_train, X_valid, y_valid, n_estimators, learning_rate=0.1):\n",
    "    model = XGBClassifier(\n",
    "                n_estimators = n_estimators,\n",
    "                learning_rate = learning_rate,\n",
    "                n_jobs = 5,\n",
    "                eval_metric = 'mlogloss'\n",
    "            )\n",
    "    \n",
    "    model.fit(X_train, y_train)\n",
    "    predictions = model.predict(X_valid)\n",
    "    \n",
    "    accuracy = accuracy_score(predictions, y_valid)\n",
    "    return accuracy"
   ]
  },
  {
   "cell_type": "code",
   "execution_count": 13,
   "id": "38f59df3",
   "metadata": {},
   "outputs": [
    {
     "name": "stdout",
     "output_type": "stream",
     "text": [
      "The accuracy with n_estimators is 10 with an accuracy of 0.8352805025901024\n"
     ]
    },
    {
     "ename": "KeyboardInterrupt",
     "evalue": "",
     "output_type": "error",
     "traceback": [
      "\u001b[1;31m---------------------------------------------------------------------------\u001b[0m",
      "\u001b[1;31mKeyboardInterrupt\u001b[0m                         Traceback (most recent call last)",
      "Input \u001b[1;32mIn [13]\u001b[0m, in \u001b[0;36m<module>\u001b[1;34m\u001b[0m\n\u001b[0;32m      9\u001b[0m last_accuracy \u001b[38;5;241m=\u001b[39m \u001b[38;5;241m0\u001b[39m\n\u001b[0;32m     10\u001b[0m \u001b[38;5;28;01mfor\u001b[39;00m n_estimators \u001b[38;5;129;01min\u001b[39;00m estimator_count:\n\u001b[1;32m---> 11\u001b[0m     accuracy \u001b[38;5;241m=\u001b[39m \u001b[43mscore_model\u001b[49m\u001b[43m(\u001b[49m\n\u001b[0;32m     12\u001b[0m \u001b[43m        \u001b[49m\u001b[43mX_train\u001b[49m\u001b[43m,\u001b[49m\u001b[43m \u001b[49m\u001b[43my_train\u001b[49m\u001b[43m,\u001b[49m\u001b[43m \u001b[49m\u001b[43mX_valid\u001b[49m\u001b[43m,\u001b[49m\u001b[43m \u001b[49m\u001b[43my_valid\u001b[49m\u001b[43m,\u001b[49m\n\u001b[0;32m     13\u001b[0m \u001b[43m        \u001b[49m\u001b[43mn_estimators\u001b[49m\u001b[38;5;241;43m=\u001b[39;49m\u001b[43mn_estimators\u001b[49m\u001b[43m,\u001b[49m\n\u001b[0;32m     14\u001b[0m \u001b[43m        \u001b[49m\u001b[43mlearning_rate\u001b[49m\u001b[38;5;241;43m=\u001b[39;49m\u001b[38;5;241;43m0.5\u001b[39;49m\u001b[43m \u001b[49m\u001b[38;5;66;43;03m# let's speed things up\u001b[39;49;00m\n\u001b[0;32m     15\u001b[0m \u001b[43m    \u001b[49m\u001b[43m)\u001b[49m\n\u001b[0;32m     16\u001b[0m     \u001b[38;5;28mprint\u001b[39m(\u001b[38;5;124mf\u001b[39m\u001b[38;5;124m\"\u001b[39m\u001b[38;5;124mThe accuracy with n_estimators is \u001b[39m\u001b[38;5;132;01m{\u001b[39;00mn_estimators\u001b[38;5;132;01m}\u001b[39;00m\u001b[38;5;124m with an accuracy of \u001b[39m\u001b[38;5;132;01m{\u001b[39;00maccuracy\u001b[38;5;132;01m}\u001b[39;00m\u001b[38;5;124m\"\u001b[39m)\n",
      "Input \u001b[1;32mIn [12]\u001b[0m, in \u001b[0;36mscore_model\u001b[1;34m(X_train, y_train, X_valid, y_valid, n_estimators, learning_rate)\u001b[0m\n\u001b[0;32m      5\u001b[0m \u001b[38;5;28;01mdef\u001b[39;00m \u001b[38;5;21mscore_model\u001b[39m(X_train, y_train, X_valid, y_valid, n_estimators, learning_rate\u001b[38;5;241m=\u001b[39m\u001b[38;5;241m0.1\u001b[39m):\n\u001b[0;32m      6\u001b[0m     model \u001b[38;5;241m=\u001b[39m XGBClassifier(\n\u001b[0;32m      7\u001b[0m                 n_estimators \u001b[38;5;241m=\u001b[39m n_estimators,\n\u001b[0;32m      8\u001b[0m                 learning_rate \u001b[38;5;241m=\u001b[39m learning_rate,\n\u001b[0;32m      9\u001b[0m                 n_jobs \u001b[38;5;241m=\u001b[39m \u001b[38;5;241m5\u001b[39m,\n\u001b[0;32m     10\u001b[0m                 eval_metric \u001b[38;5;241m=\u001b[39m \u001b[38;5;124m'\u001b[39m\u001b[38;5;124mmlogloss\u001b[39m\u001b[38;5;124m'\u001b[39m\n\u001b[0;32m     11\u001b[0m             )\n\u001b[1;32m---> 13\u001b[0m     \u001b[43mmodel\u001b[49m\u001b[38;5;241;43m.\u001b[39;49m\u001b[43mfit\u001b[49m\u001b[43m(\u001b[49m\u001b[43mX_train\u001b[49m\u001b[43m,\u001b[49m\u001b[43m \u001b[49m\u001b[43my_train\u001b[49m\u001b[43m)\u001b[49m\n\u001b[0;32m     14\u001b[0m     predictions \u001b[38;5;241m=\u001b[39m model\u001b[38;5;241m.\u001b[39mpredict(X_valid)\n\u001b[0;32m     16\u001b[0m     accuracy \u001b[38;5;241m=\u001b[39m accuracy_score(predictions, y_valid)\n",
      "File \u001b[1;32m~\\Documents\\GitHub\\mortgage-default-prediction\\venv\\lib\\site-packages\\xgboost\\core.py:506\u001b[0m, in \u001b[0;36m_deprecate_positional_args.<locals>.inner_f\u001b[1;34m(*args, **kwargs)\u001b[0m\n\u001b[0;32m    504\u001b[0m \u001b[38;5;28;01mfor\u001b[39;00m k, arg \u001b[38;5;129;01min\u001b[39;00m \u001b[38;5;28mzip\u001b[39m(sig\u001b[38;5;241m.\u001b[39mparameters, args):\n\u001b[0;32m    505\u001b[0m     kwargs[k] \u001b[38;5;241m=\u001b[39m arg\n\u001b[1;32m--> 506\u001b[0m \u001b[38;5;28;01mreturn\u001b[39;00m f(\u001b[38;5;241m*\u001b[39m\u001b[38;5;241m*\u001b[39mkwargs)\n",
      "File \u001b[1;32m~\\Documents\\GitHub\\mortgage-default-prediction\\venv\\lib\\site-packages\\xgboost\\sklearn.py:1250\u001b[0m, in \u001b[0;36mXGBClassifier.fit\u001b[1;34m(self, X, y, sample_weight, base_margin, eval_set, eval_metric, early_stopping_rounds, verbose, xgb_model, sample_weight_eval_set, base_margin_eval_set, feature_weights, callbacks)\u001b[0m\n\u001b[0;32m   1230\u001b[0m model, feval, params \u001b[38;5;241m=\u001b[39m \u001b[38;5;28mself\u001b[39m\u001b[38;5;241m.\u001b[39m_configure_fit(xgb_model, eval_metric, params)\n\u001b[0;32m   1231\u001b[0m train_dmatrix, evals \u001b[38;5;241m=\u001b[39m _wrap_evaluation_matrices(\n\u001b[0;32m   1232\u001b[0m     missing\u001b[38;5;241m=\u001b[39m\u001b[38;5;28mself\u001b[39m\u001b[38;5;241m.\u001b[39mmissing,\n\u001b[0;32m   1233\u001b[0m     X\u001b[38;5;241m=\u001b[39mX,\n\u001b[1;32m   (...)\u001b[0m\n\u001b[0;32m   1247\u001b[0m     label_transform\u001b[38;5;241m=\u001b[39mlabel_transform,\n\u001b[0;32m   1248\u001b[0m )\n\u001b[1;32m-> 1250\u001b[0m \u001b[38;5;28mself\u001b[39m\u001b[38;5;241m.\u001b[39m_Booster \u001b[38;5;241m=\u001b[39m \u001b[43mtrain\u001b[49m\u001b[43m(\u001b[49m\n\u001b[0;32m   1251\u001b[0m \u001b[43m    \u001b[49m\u001b[43mparams\u001b[49m\u001b[43m,\u001b[49m\n\u001b[0;32m   1252\u001b[0m \u001b[43m    \u001b[49m\u001b[43mtrain_dmatrix\u001b[49m\u001b[43m,\u001b[49m\n\u001b[0;32m   1253\u001b[0m \u001b[43m    \u001b[49m\u001b[38;5;28;43mself\u001b[39;49m\u001b[38;5;241;43m.\u001b[39;49m\u001b[43mget_num_boosting_rounds\u001b[49m\u001b[43m(\u001b[49m\u001b[43m)\u001b[49m\u001b[43m,\u001b[49m\n\u001b[0;32m   1254\u001b[0m \u001b[43m    \u001b[49m\u001b[43mevals\u001b[49m\u001b[38;5;241;43m=\u001b[39;49m\u001b[43mevals\u001b[49m\u001b[43m,\u001b[49m\n\u001b[0;32m   1255\u001b[0m \u001b[43m    \u001b[49m\u001b[43mearly_stopping_rounds\u001b[49m\u001b[38;5;241;43m=\u001b[39;49m\u001b[43mearly_stopping_rounds\u001b[49m\u001b[43m,\u001b[49m\n\u001b[0;32m   1256\u001b[0m \u001b[43m    \u001b[49m\u001b[43mevals_result\u001b[49m\u001b[38;5;241;43m=\u001b[39;49m\u001b[43mevals_result\u001b[49m\u001b[43m,\u001b[49m\n\u001b[0;32m   1257\u001b[0m \u001b[43m    \u001b[49m\u001b[43mobj\u001b[49m\u001b[38;5;241;43m=\u001b[39;49m\u001b[43mobj\u001b[49m\u001b[43m,\u001b[49m\n\u001b[0;32m   1258\u001b[0m \u001b[43m    \u001b[49m\u001b[43mfeval\u001b[49m\u001b[38;5;241;43m=\u001b[39;49m\u001b[43mfeval\u001b[49m\u001b[43m,\u001b[49m\n\u001b[0;32m   1259\u001b[0m \u001b[43m    \u001b[49m\u001b[43mverbose_eval\u001b[49m\u001b[38;5;241;43m=\u001b[39;49m\u001b[43mverbose\u001b[49m\u001b[43m,\u001b[49m\n\u001b[0;32m   1260\u001b[0m \u001b[43m    \u001b[49m\u001b[43mxgb_model\u001b[49m\u001b[38;5;241;43m=\u001b[39;49m\u001b[43mmodel\u001b[49m\u001b[43m,\u001b[49m\n\u001b[0;32m   1261\u001b[0m \u001b[43m    \u001b[49m\u001b[43mcallbacks\u001b[49m\u001b[38;5;241;43m=\u001b[39;49m\u001b[43mcallbacks\u001b[49m\u001b[43m,\u001b[49m\n\u001b[0;32m   1262\u001b[0m \u001b[43m\u001b[49m\u001b[43m)\u001b[49m\n\u001b[0;32m   1264\u001b[0m \u001b[38;5;28;01mif\u001b[39;00m \u001b[38;5;129;01mnot\u001b[39;00m callable(\u001b[38;5;28mself\u001b[39m\u001b[38;5;241m.\u001b[39mobjective):\n\u001b[0;32m   1265\u001b[0m     \u001b[38;5;28mself\u001b[39m\u001b[38;5;241m.\u001b[39mobjective \u001b[38;5;241m=\u001b[39m params[\u001b[38;5;124m\"\u001b[39m\u001b[38;5;124mobjective\u001b[39m\u001b[38;5;124m\"\u001b[39m]\n",
      "File \u001b[1;32m~\\Documents\\GitHub\\mortgage-default-prediction\\venv\\lib\\site-packages\\xgboost\\training.py:188\u001b[0m, in \u001b[0;36mtrain\u001b[1;34m(params, dtrain, num_boost_round, evals, obj, feval, maximize, early_stopping_rounds, evals_result, verbose_eval, xgb_model, callbacks)\u001b[0m\n\u001b[0;32m    115\u001b[0m \u001b[38;5;28;01mdef\u001b[39;00m \u001b[38;5;21mtrain\u001b[39m(params, dtrain, num_boost_round\u001b[38;5;241m=\u001b[39m\u001b[38;5;241m10\u001b[39m, evals\u001b[38;5;241m=\u001b[39m(), obj\u001b[38;5;241m=\u001b[39m\u001b[38;5;28;01mNone\u001b[39;00m, feval\u001b[38;5;241m=\u001b[39m\u001b[38;5;28;01mNone\u001b[39;00m,\n\u001b[0;32m    116\u001b[0m           maximize\u001b[38;5;241m=\u001b[39m\u001b[38;5;28;01mNone\u001b[39;00m, early_stopping_rounds\u001b[38;5;241m=\u001b[39m\u001b[38;5;28;01mNone\u001b[39;00m, evals_result\u001b[38;5;241m=\u001b[39m\u001b[38;5;28;01mNone\u001b[39;00m,\n\u001b[0;32m    117\u001b[0m           verbose_eval\u001b[38;5;241m=\u001b[39m\u001b[38;5;28;01mTrue\u001b[39;00m, xgb_model\u001b[38;5;241m=\u001b[39m\u001b[38;5;28;01mNone\u001b[39;00m, callbacks\u001b[38;5;241m=\u001b[39m\u001b[38;5;28;01mNone\u001b[39;00m):\n\u001b[0;32m    118\u001b[0m     \u001b[38;5;66;03m# pylint: disable=too-many-statements,too-many-branches, attribute-defined-outside-init\u001b[39;00m\n\u001b[0;32m    119\u001b[0m     \u001b[38;5;124;03m\"\"\"Train a booster with given parameters.\u001b[39;00m\n\u001b[0;32m    120\u001b[0m \n\u001b[0;32m    121\u001b[0m \u001b[38;5;124;03m    Parameters\u001b[39;00m\n\u001b[1;32m   (...)\u001b[0m\n\u001b[0;32m    186\u001b[0m \u001b[38;5;124;03m    Booster : a trained booster model\u001b[39;00m\n\u001b[0;32m    187\u001b[0m \u001b[38;5;124;03m    \"\"\"\u001b[39;00m\n\u001b[1;32m--> 188\u001b[0m     bst \u001b[38;5;241m=\u001b[39m \u001b[43m_train_internal\u001b[49m\u001b[43m(\u001b[49m\u001b[43mparams\u001b[49m\u001b[43m,\u001b[49m\u001b[43m \u001b[49m\u001b[43mdtrain\u001b[49m\u001b[43m,\u001b[49m\n\u001b[0;32m    189\u001b[0m \u001b[43m                          \u001b[49m\u001b[43mnum_boost_round\u001b[49m\u001b[38;5;241;43m=\u001b[39;49m\u001b[43mnum_boost_round\u001b[49m\u001b[43m,\u001b[49m\n\u001b[0;32m    190\u001b[0m \u001b[43m                          \u001b[49m\u001b[43mevals\u001b[49m\u001b[38;5;241;43m=\u001b[39;49m\u001b[43mevals\u001b[49m\u001b[43m,\u001b[49m\n\u001b[0;32m    191\u001b[0m \u001b[43m                          \u001b[49m\u001b[43mobj\u001b[49m\u001b[38;5;241;43m=\u001b[39;49m\u001b[43mobj\u001b[49m\u001b[43m,\u001b[49m\u001b[43m \u001b[49m\u001b[43mfeval\u001b[49m\u001b[38;5;241;43m=\u001b[39;49m\u001b[43mfeval\u001b[49m\u001b[43m,\u001b[49m\n\u001b[0;32m    192\u001b[0m \u001b[43m                          \u001b[49m\u001b[43mxgb_model\u001b[49m\u001b[38;5;241;43m=\u001b[39;49m\u001b[43mxgb_model\u001b[49m\u001b[43m,\u001b[49m\u001b[43m \u001b[49m\u001b[43mcallbacks\u001b[49m\u001b[38;5;241;43m=\u001b[39;49m\u001b[43mcallbacks\u001b[49m\u001b[43m,\u001b[49m\n\u001b[0;32m    193\u001b[0m \u001b[43m                          \u001b[49m\u001b[43mverbose_eval\u001b[49m\u001b[38;5;241;43m=\u001b[39;49m\u001b[43mverbose_eval\u001b[49m\u001b[43m,\u001b[49m\n\u001b[0;32m    194\u001b[0m \u001b[43m                          \u001b[49m\u001b[43mevals_result\u001b[49m\u001b[38;5;241;43m=\u001b[39;49m\u001b[43mevals_result\u001b[49m\u001b[43m,\u001b[49m\n\u001b[0;32m    195\u001b[0m \u001b[43m                          \u001b[49m\u001b[43mmaximize\u001b[49m\u001b[38;5;241;43m=\u001b[39;49m\u001b[43mmaximize\u001b[49m\u001b[43m,\u001b[49m\n\u001b[0;32m    196\u001b[0m \u001b[43m                          \u001b[49m\u001b[43mearly_stopping_rounds\u001b[49m\u001b[38;5;241;43m=\u001b[39;49m\u001b[43mearly_stopping_rounds\u001b[49m\u001b[43m)\u001b[49m\n\u001b[0;32m    197\u001b[0m     \u001b[38;5;28;01mreturn\u001b[39;00m bst\n",
      "File \u001b[1;32m~\\Documents\\GitHub\\mortgage-default-prediction\\venv\\lib\\site-packages\\xgboost\\training.py:81\u001b[0m, in \u001b[0;36m_train_internal\u001b[1;34m(params, dtrain, num_boost_round, evals, obj, feval, xgb_model, callbacks, evals_result, maximize, verbose_eval, early_stopping_rounds)\u001b[0m\n\u001b[0;32m     79\u001b[0m \u001b[38;5;28;01mif\u001b[39;00m callbacks\u001b[38;5;241m.\u001b[39mbefore_iteration(bst, i, dtrain, evals):\n\u001b[0;32m     80\u001b[0m     \u001b[38;5;28;01mbreak\u001b[39;00m\n\u001b[1;32m---> 81\u001b[0m \u001b[43mbst\u001b[49m\u001b[38;5;241;43m.\u001b[39;49m\u001b[43mupdate\u001b[49m\u001b[43m(\u001b[49m\u001b[43mdtrain\u001b[49m\u001b[43m,\u001b[49m\u001b[43m \u001b[49m\u001b[43mi\u001b[49m\u001b[43m,\u001b[49m\u001b[43m \u001b[49m\u001b[43mobj\u001b[49m\u001b[43m)\u001b[49m\n\u001b[0;32m     82\u001b[0m \u001b[38;5;28;01mif\u001b[39;00m callbacks\u001b[38;5;241m.\u001b[39mafter_iteration(bst, i, dtrain, evals):\n\u001b[0;32m     83\u001b[0m     \u001b[38;5;28;01mbreak\u001b[39;00m\n",
      "File \u001b[1;32m~\\Documents\\GitHub\\mortgage-default-prediction\\venv\\lib\\site-packages\\xgboost\\core.py:1680\u001b[0m, in \u001b[0;36mBooster.update\u001b[1;34m(self, dtrain, iteration, fobj)\u001b[0m\n\u001b[0;32m   1677\u001b[0m \u001b[38;5;28mself\u001b[39m\u001b[38;5;241m.\u001b[39m_validate_features(dtrain)\n\u001b[0;32m   1679\u001b[0m \u001b[38;5;28;01mif\u001b[39;00m fobj \u001b[38;5;129;01mis\u001b[39;00m \u001b[38;5;28;01mNone\u001b[39;00m:\n\u001b[1;32m-> 1680\u001b[0m     _check_call(\u001b[43m_LIB\u001b[49m\u001b[38;5;241;43m.\u001b[39;49m\u001b[43mXGBoosterUpdateOneIter\u001b[49m\u001b[43m(\u001b[49m\u001b[38;5;28;43mself\u001b[39;49m\u001b[38;5;241;43m.\u001b[39;49m\u001b[43mhandle\u001b[49m\u001b[43m,\u001b[49m\n\u001b[0;32m   1681\u001b[0m \u001b[43m                                            \u001b[49m\u001b[43mctypes\u001b[49m\u001b[38;5;241;43m.\u001b[39;49m\u001b[43mc_int\u001b[49m\u001b[43m(\u001b[49m\u001b[43miteration\u001b[49m\u001b[43m)\u001b[49m\u001b[43m,\u001b[49m\n\u001b[0;32m   1682\u001b[0m \u001b[43m                                            \u001b[49m\u001b[43mdtrain\u001b[49m\u001b[38;5;241;43m.\u001b[39;49m\u001b[43mhandle\u001b[49m\u001b[43m)\u001b[49m)\n\u001b[0;32m   1683\u001b[0m \u001b[38;5;28;01melse\u001b[39;00m:\n\u001b[0;32m   1684\u001b[0m     pred \u001b[38;5;241m=\u001b[39m \u001b[38;5;28mself\u001b[39m\u001b[38;5;241m.\u001b[39mpredict(dtrain, output_margin\u001b[38;5;241m=\u001b[39m\u001b[38;5;28;01mTrue\u001b[39;00m, training\u001b[38;5;241m=\u001b[39m\u001b[38;5;28;01mTrue\u001b[39;00m)\n",
      "\u001b[1;31mKeyboardInterrupt\u001b[0m: "
     ]
    }
   ],
   "source": [
    "# shut up warnings\n",
    "import warnings\n",
    "warnings.filterwarnings('ignore')\n",
    "warnings.simplefilter('ignore')\n",
    "\n",
    "# we will try different number of estimators to see, which is the best fit\n",
    "estimator_count = [10, 25, 36, 50, 100]\n",
    "\n",
    "last_accuracy = 0\n",
    "for n_estimators in estimator_count:\n",
    "    accuracy = score_model(\n",
    "        X_train, y_train, X_valid, y_valid,\n",
    "        n_estimators=n_estimators,\n",
    "        learning_rate=0.5 # let's speed things up\n",
    "    )\n",
    "    print(f\"The accuracy with n_estimators is {n_estimators} with an accuracy of {accuracy}\")"
   ]
  },
  {
   "cell_type": "code",
   "execution_count": 36,
   "id": "26430fb6",
   "metadata": {},
   "outputs": [
    {
     "name": "stdout",
     "output_type": "stream",
     "text": [
      "Accuracy is 0.8358315882288108\n"
     ]
    }
   ],
   "source": [
    "some_model = XGBClassifier(\n",
    "    n_estimators = 100,\n",
    "    learning_rate = 0.05,\n",
    "    reg_lambda=0.9,\n",
    "    reg_alpha=0.1,\n",
    "    objective='reg:logistic',\n",
    "    eval_metric = 'rmse',\n",
    ")\n",
    "some_model.fit(X_train, y_train)\n",
    "predictions = some_model.predict(X_valid)\n",
    "accuracy = accuracy_score(predictions, y_valid)\n",
    "print(f\"Accuracy is {accuracy}\")"
   ]
  },
  {
   "cell_type": "markdown",
   "id": "dea0c46c",
   "metadata": {},
   "source": [
    "This is much better than the previous model, where repayment was a also possible output scenario. By only focusing on the probability of default, we have achieved over 80% accuracy! Let's try calculating the Mean Squared Error next!"
   ]
  },
  {
   "cell_type": "code",
   "execution_count": 16,
   "id": "ffe694c1",
   "metadata": {},
   "outputs": [
    {
     "name": "stdout",
     "output_type": "stream",
     "text": [
      "Accuracy of randomly generated results is 0.5048495536206327\n"
     ]
    }
   ],
   "source": [
    "import random\n",
    "\n",
    "arbitrary_predictions = [random.randint(0,1) for _ in range(y_valid.shape[0])]\n",
    "\n",
    "print(f\"Accuracy of randomly generated results is {accuracy_score(arbitrary_predictions, y_valid)}\")"
   ]
  },
  {
   "cell_type": "markdown",
   "id": "0f123fe4",
   "metadata": {},
   "source": [
    "Just for reference, a randomly generated array of answers would be around 50% accurate at predicting a default. This means, that our model is around 60% better than just randomly guessing. Which is good, but we can make it much better."
   ]
  },
  {
   "cell_type": "code",
   "execution_count": 21,
   "id": "9d14ca02",
   "metadata": {},
   "outputs": [
    {
     "name": "stdout",
     "output_type": "stream",
     "text": [
      "Prediction accuracy is 0.8341232227488151\n"
     ]
    }
   ],
   "source": [
    "hits = 0\n",
    "total = len(y_valid)\n",
    "for val1, val2 in zip(predictions, y_valid):\n",
    "    if val1 == val2:\n",
    "        hits += 1\n",
    "print(f\"Prediction accuracy is {hits/total}\") "
   ]
  },
  {
   "cell_type": "code",
   "execution_count": 31,
   "id": "c9a63138",
   "metadata": {},
   "outputs": [
    {
     "name": "stdout",
     "output_type": "stream",
     "text": [
      "Random guessing results in 0.5048495536206327 accuracy\n"
     ]
    }
   ],
   "source": [
    "rand_hits = 0\n",
    "total = len(y_valid)\n",
    "for val1, val2 in zip(arbitrary_predictions, y_valid):\n",
    "    if val1 == val2:\n",
    "        rand_hits += 1\n",
    "print(f\"Random guessing results in {rand_hits/total} accuracy\")"
   ]
  }
 ],
 "metadata": {
  "kernelspec": {
   "display_name": "Python 3 (ipykernel)",
   "language": "python",
   "name": "python3"
  },
  "language_info": {
   "codemirror_mode": {
    "name": "ipython",
    "version": 3
   },
   "file_extension": ".py",
   "mimetype": "text/x-python",
   "name": "python",
   "nbconvert_exporter": "python",
   "pygments_lexer": "ipython3",
   "version": "3.10.0"
  }
 },
 "nbformat": 4,
 "nbformat_minor": 5
}
