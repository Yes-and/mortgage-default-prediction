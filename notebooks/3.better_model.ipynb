{
 "cells": [
  {
   "cell_type": "code",
   "execution_count": 1,
   "id": "8b62e41e",
   "metadata": {},
   "outputs": [],
   "source": [
    "import numpy as np\n",
    "import pandas as pd\n",
    "\n",
    "path_to_csv = \"../data/mortgage_transformed.csv\"\n",
    "df = pd.read_csv(path_to_csv)\n",
    "df.set_index(df.pop(\"Unnamed: 0\"), inplace=True)\n",
    "\n",
    "X = df.dropna(axis=0)\n",
    "y = X.pop(\"result\")"
   ]
  },
  {
   "cell_type": "markdown",
   "id": "af21e0da",
   "metadata": {},
   "source": [
    "# Building a better model\n",
    "\n",
    "We will try to select variables that may be related to the output as well as feature enginnering new columns. \n",
    "\n",
    "Looking at the available columns, we can create variables such as time elapsed since loan was taken out, change in FICO, LTV or HPI."
   ]
  },
  {
   "cell_type": "code",
   "execution_count": 4,
   "id": "6c7492d2",
   "metadata": {},
   "outputs": [],
   "source": [
    "X[\"time_since_start\"] = X.time - X.first_time\n",
    "X[\"balance_change\"] = X.balance_orig_time-X.balance_time\n",
    "X[\"LTV_change\"] = X.LTV_time - X.LTV_orig_time"
   ]
  },
  {
   "cell_type": "code",
   "execution_count": 5,
   "id": "7bf49b57",
   "metadata": {},
   "outputs": [],
   "source": [
    "from sklearn.model_selection import train_test_split\n",
    "\n",
    "better_columns = [\"time_since_start\", \"balance_change\", \"LTV_change\"]\n",
    "\n",
    "X_train, X_valid, y_train, y_valid = train_test_split(\n",
    "    X[better_columns], y,\n",
    "    train_size=0.7,\n",
    "    test_size=0.3)"
   ]
  },
  {
   "cell_type": "code",
   "execution_count": null,
   "id": "337f05e9",
   "metadata": {},
   "outputs": [],
   "source": [
    "# we will try to select a better model using accuracy scoring\n",
    "from xgboost import XGBClassifier\n",
    "from sklearn.metrics import accuracy_score\n",
    "\n",
    "def score_model(X_train, y_train, X_valid, y_valid, n_estimators=100, learning_rate=0.1):\n",
    "    model = XGBClassifier(\n",
    "                n_estimators = n_estimators,\n",
    "                learning_rate = learning_rate,\n",
    "                n_jobs = 5,\n",
    "                eval_metric='mlogloss'\n",
    "            )\n",
    "    \n",
    "    model.fit(X_train, y_train)\n",
    "    predictions = model.predict(X_valid)\n",
    "    \n",
    "    accuracy = accuracy_score(predictions, y_valid)\n",
    "    return accuracy"
   ]
  },
  {
   "cell_type": "code",
   "execution_count": 15,
   "id": "fff6a6a3",
   "metadata": {},
   "outputs": [
    {
     "name": "stderr",
     "output_type": "stream",
     "text": [
      "C:\\Users\\vojte\\Documents\\GitHub\\mortgage-default-prediction\\venv\\lib\\site-packages\\xgboost\\sklearn.py:1224: UserWarning: The use of label encoder in XGBClassifier is deprecated and will be removed in a future release. To remove this warning, do the following: 1) Pass option use_label_encoder=False when constructing XGBClassifier object; and 2) Encode your labels (y) as integers starting with 0, i.e. 0, 1, 2, ..., [num_class - 1].\n",
      "  warnings.warn(label_encoder_deprecation_msg, UserWarning)\n",
      "C:\\Users\\vojte\\Documents\\GitHub\\mortgage-default-prediction\\venv\\lib\\site-packages\\xgboost\\data.py:262: FutureWarning: pandas.Int64Index is deprecated and will be removed from pandas in a future version. Use pandas.Index with the appropriate dtype instead.\n",
      "  elif isinstance(data.columns, (pd.Int64Index, pd.RangeIndex)):\n"
     ]
    },
    {
     "name": "stdout",
     "output_type": "stream",
     "text": [
      "[21:52:36] WARNING: C:/Users/Administrator/workspace/xgboost-win64_release_1.5.1/src/learner.cc:1115: Starting in XGBoost 1.3.0, the default evaluation metric used with the objective 'multi:softprob' was changed from 'merror' to 'mlogloss'. Explicitly set eval_metric if you'd like to restore the old behavior.\n"
     ]
    },
    {
     "name": "stderr",
     "output_type": "stream",
     "text": [
      "C:\\Users\\vojte\\Documents\\GitHub\\mortgage-default-prediction\\venv\\lib\\site-packages\\xgboost\\sklearn.py:1224: UserWarning: The use of label encoder in XGBClassifier is deprecated and will be removed in a future release. To remove this warning, do the following: 1) Pass option use_label_encoder=False when constructing XGBClassifier object; and 2) Encode your labels (y) as integers starting with 0, i.e. 0, 1, 2, ..., [num_class - 1].\n",
      "  warnings.warn(label_encoder_deprecation_msg, UserWarning)\n",
      "C:\\Users\\vojte\\Documents\\GitHub\\mortgage-default-prediction\\venv\\lib\\site-packages\\xgboost\\data.py:262: FutureWarning: pandas.Int64Index is deprecated and will be removed from pandas in a future version. Use pandas.Index with the appropriate dtype instead.\n",
      "  elif isinstance(data.columns, (pd.Int64Index, pd.RangeIndex)):\n"
     ]
    },
    {
     "name": "stdout",
     "output_type": "stream",
     "text": [
      "[21:52:37] WARNING: C:/Users/Administrator/workspace/xgboost-win64_release_1.5.1/src/learner.cc:1115: Starting in XGBoost 1.3.0, the default evaluation metric used with the objective 'multi:softprob' was changed from 'merror' to 'mlogloss'. Explicitly set eval_metric if you'd like to restore the old behavior.\n",
      "The ideal number of estimators is 50 with an accuracy of 0.6520445277196076\n"
     ]
    }
   ],
   "source": [
    "# we will try different number of estimators to see, which is the best fit\n",
    "estimator_count = [25, 50, 100, 200, 300, 400, 800]\n",
    "\n",
    "last_accuracy = 0\n",
    "for n_estimators in estimator_count:\n",
    "    accuracy = score_model(\n",
    "        X_train, y_train, X_valid, y_valid,\n",
    "        n_estimators=n_estimators,\n",
    "        learning_rate=0.3 # let's speed things up\n",
    "    )\n",
    "    if accuracy > last_accuracy:\n",
    "        last_accuracy = accuracy\n",
    "    else:\n",
    "        print(f\"The ideal number of estimators is {n_estimators} with an accuracy of {accuracy}\")\n",
    "        break"
   ]
  },
  {
   "cell_type": "code",
   "execution_count": 21,
   "id": "e3be6394",
   "metadata": {},
   "outputs": [
    {
     "name": "stdout",
     "output_type": "stream",
     "text": [
      "The accuracy score is 0.6546346302215365\n"
     ]
    }
   ],
   "source": [
    "model = XGBClassifier(\n",
    "                n_estimators = 50,\n",
    "                learning_rate = 0.1,\n",
    "                n_jobs = 5,\n",
    "                eval_metric='mlogloss'\n",
    "        )\n",
    "\n",
    "model.fit(X_train, y_train)\n",
    "predictions = model.predict(X_valid)\n",
    "\n",
    "print(f\"The accuracy score is {accuracy_score(predictions, y_valid)}\")\n",
    "\n",
    "path_to_model = \"../models/second_model.json\"\n",
    "model.save_model(path_to_model)"
   ]
  },
  {
   "cell_type": "markdown",
   "id": "8f930f79",
   "metadata": {},
   "source": [
    "# Summary\n",
    "\n",
    "This model makes correct predictions roughly 65% of the time.\n",
    "\n",
    "In total terms, it is roughly 48% at predicting whether a debt will be paid off, or a default will happen. This is much better than the previous one, though more work can be done to make it better.\n",
    "\n",
    "We shall try to have a deeper look at the relationships between the variables in the next model."
   ]
  },
  {
   "cell_type": "code",
   "execution_count": null,
   "id": "d786c431",
   "metadata": {},
   "outputs": [],
   "source": []
  }
 ],
 "metadata": {
  "kernelspec": {
   "display_name": "Python 3 (ipykernel)",
   "language": "python",
   "name": "python3"
  },
  "language_info": {
   "codemirror_mode": {
    "name": "ipython",
    "version": 3
   },
   "file_extension": ".py",
   "mimetype": "text/x-python",
   "name": "python",
   "nbconvert_exporter": "python",
   "pygments_lexer": "ipython3",
   "version": "3.10.0"
  }
 },
 "nbformat": 4,
 "nbformat_minor": 5
}
