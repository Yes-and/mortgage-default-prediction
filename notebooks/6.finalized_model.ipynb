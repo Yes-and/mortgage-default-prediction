{
 "cells": [
  {
   "cell_type": "code",
   "execution_count": 1,
   "id": "7227ca3a",
   "metadata": {},
   "outputs": [],
   "source": [
    "import numpy as np\n",
    "import pandas as pd\n",
    "\n",
    "path_to_csv = \"../data/mortgage_transformed.csv\"\n",
    "df = pd.read_csv(path_to_csv)\n",
    "df.set_index(df.pop(\"Unnamed: 0\"), inplace=True)\n",
    "\n",
    "X = df.dropna(axis=0)\n",
    "y = X.pop(\"result\")"
   ]
  },
  {
   "cell_type": "markdown",
   "id": "48c42701",
   "metadata": {},
   "source": [
    "# A model that incorporates what we've learned thus far\n",
    "\n",
    "We will use most features from the original datasets, while adding new ones. We will also try to normalize the data to improve model performance"
   ]
  },
  {
   "cell_type": "code",
   "execution_count": 59,
   "id": "14d145ce",
   "metadata": {},
   "outputs": [],
   "source": [
    "# custom features\n",
    "X[\"time_since_start\"] = X.time - X.orig_time\n",
    "X[\"time_until_end\"] = X.mat_time - X.time\n",
    "X[\"mortgage_duration\"] = X.mat_time - X.orig_time\n",
    "X[\"balance_change\"] = X.balance_time-X.balance_orig_time\n",
    "X[\"LTV_change\"] = X.LTV_time - X.LTV_orig_time\n",
    "X[\"interest_change\"] = X.interest_rate_time - X.Interest_Rate_orig_time\n",
    "# X[\"interest_change_as_fraction\"] = X.interest_change / X.Interest_Rate_orig_time\n",
    "X[\"hpi_change\"] = X.hpi_time - X.hpi_orig_time"
   ]
  },
  {
   "cell_type": "code",
   "execution_count": 60,
   "id": "9da35e36",
   "metadata": {},
   "outputs": [],
   "source": [
    "# select useful columns\n",
    "used_columns = [\n",
    "    \"time_since_start\", \"time_until_end\", \"mortgage_duration\",\n",
    "    \"balance_time\", \"balance_orig_time\", \"balance_change\",\n",
    "    \"LTV_time\", \"LTV_orig_time\", \"LTV_change\",\n",
    "    \"interest_rate_time\", \"Interest_Rate_orig_time\", \"interest_change\",\n",
    "    #\"interest_change_as_fraction\",\n",
    "    \"hpi_time\", \"hpi_orig_time\",\n",
    "    \"hpi_change\", \"uer_time\"\n",
    "]"
   ]
  },
  {
   "cell_type": "code",
   "execution_count": 75,
   "id": "0bbbe772",
   "metadata": {},
   "outputs": [],
   "source": [
    "# normalize the data\n",
    "from sklearn.preprocessing import normalize\n",
    "X_data = X.loc[:, used_columns]\n",
    "X_norm = normalize(X_data)"
   ]
  },
  {
   "cell_type": "code",
   "execution_count": 83,
   "id": "0b06bee2",
   "metadata": {},
   "outputs": [],
   "source": [
    "# split the data for testing the model\n",
    "from sklearn.model_selection import train_test_split\n",
    "\n",
    "X_train, X_valid, y_train, y_valid = train_test_split(\n",
    "    X_data, y,\n",
    "    train_size=0.7,\n",
    "    test_size=0.3)"
   ]
  },
  {
   "cell_type": "code",
   "execution_count": 79,
   "id": "a41b961a",
   "metadata": {},
   "outputs": [],
   "source": [
    "# we will try to select a better model using accuracy scoring\n",
    "from xgboost import XGBClassifier\n",
    "from sklearn.metrics import accuracy_score\n",
    "\n",
    "def score_model(X_train, y_train, X_valid, y_valid, n_estimators, learning_rate=0.1):\n",
    "    model = XGBClassifier(\n",
    "                n_estimators = n_estimators,\n",
    "                learning_rate = learning_rate,\n",
    "                n_jobs = 5,\n",
    "                eval_metric = 'mlogloss'\n",
    "            )\n",
    "    \n",
    "    model.fit(X_train, y_train)\n",
    "    predictions = model.predict(X_valid)\n",
    "    \n",
    "    accuracy = accuracy_score(predictions, y_valid)\n",
    "    return accuracy"
   ]
  },
  {
   "cell_type": "code",
   "execution_count": 82,
   "id": "ba67d22d",
   "metadata": {},
   "outputs": [
    {
     "name": "stdout",
     "output_type": "stream",
     "text": [
      "The accuracy with n_estimators is 10 with an accuracy of 0.6596495095337815\n",
      "The accuracy with n_estimators is 25 with an accuracy of 0.6605312465557147\n",
      "The accuracy with n_estimators is 36 with an accuracy of 0.6578309269260443\n",
      "The accuracy with n_estimators is 50 with an accuracy of 0.6552959329879864\n",
      "The accuracy with n_estimators is 100 with an accuracy of 0.6543039788383115\n"
     ]
    }
   ],
   "source": [
    "# shut up warnings\n",
    "import warnings\n",
    "warnings.filterwarnings('ignore')\n",
    "warnings.simplefilter('ignore')\n",
    "\n",
    "# we will try different number of estimators to see, which is the best fit\n",
    "estimator_count = [10, 25, 36, 50, 100]\n",
    "\n",
    "last_accuracy = 0\n",
    "for n_estimators in estimator_count:\n",
    "    accuracy = score_model(\n",
    "        X_train, y_train, X_valid, y_valid,\n",
    "        n_estimators=n_estimators,\n",
    "        learning_rate=0.5 # let's speed things up\n",
    "    )\n",
    "    print(f\"The accuracy with n_estimators is {n_estimators} with an accuracy of {accuracy}\")"
   ]
  },
  {
   "cell_type": "code",
   "execution_count": 157,
   "id": "ba8ce22e",
   "metadata": {},
   "outputs": [
    {
     "name": "stdout",
     "output_type": "stream",
     "text": [
      "Accuracy is 0.6707814394356884\n"
     ]
    }
   ],
   "source": [
    "some_model = XGBClassifier(\n",
    "    n_estimators = 24,\n",
    "    learning_rate = 0.3,\n",
    "    reg_lambda=0.9,\n",
    "    reg_alpha=0.1,\n",
    "    objective='reg:logistic',\n",
    "    eval_metric = 'error',\n",
    ")\n",
    "some_model.fit(X_train, y_train)\n",
    "predictions = some_model.predict(X_valid)\n",
    "accuracy = accuracy_score(predictions, y_valid)\n",
    "print(f\"Accuracy is {accuracy}\")"
   ]
  },
  {
   "cell_type": "code",
   "execution_count": null,
   "id": "faf3cab6",
   "metadata": {},
   "outputs": [],
   "source": []
  }
 ],
 "metadata": {
  "kernelspec": {
   "display_name": "Python 3 (ipykernel)",
   "language": "python",
   "name": "python3"
  },
  "language_info": {
   "codemirror_mode": {
    "name": "ipython",
    "version": 3
   },
   "file_extension": ".py",
   "mimetype": "text/x-python",
   "name": "python",
   "nbconvert_exporter": "python",
   "pygments_lexer": "ipython3",
   "version": "3.10.0"
  }
 },
 "nbformat": 4,
 "nbformat_minor": 5
}
