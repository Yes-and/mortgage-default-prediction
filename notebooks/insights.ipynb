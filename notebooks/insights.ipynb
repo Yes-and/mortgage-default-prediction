{
 "cells": [
  {
   "cell_type": "markdown",
   "id": "25cb0817",
   "metadata": {},
   "source": [
    "# Properties of the data"
   ]
  },
  {
   "cell_type": "code",
   "execution_count": 26,
   "id": "983fa399",
   "metadata": {},
   "outputs": [],
   "source": [
    "import pandas as pd\n",
    "import numpy as np\n",
    "\n",
    "path_to_csv = \"../data/mortgage_sample.csv\"\n",
    "df = pd.read_csv(path_to_csv)"
   ]
  },
  {
   "cell_type": "code",
   "execution_count": 5,
   "id": "afae86d5",
   "metadata": {},
   "outputs": [
    {
     "name": "stdout",
     "output_type": "stream",
     "text": [
      "The dataset has 622489 rows and 24 columns\n"
     ]
    }
   ],
   "source": [
    "print(f\"The dataset has {df.shape[0]} rows and {df.shape[1]} columns\")"
   ]
  },
  {
   "cell_type": "code",
   "execution_count": 9,
   "id": "7bc41241",
   "metadata": {},
   "outputs": [
    {
     "name": "stdout",
     "output_type": "stream",
     "text": [
      "The individual columns are: ['id', 'time', 'orig_time', 'first_time', 'mat_time', 'balance_time', 'LTV_time', 'interest_rate_time', 'hpi_time', 'gdp_time', 'uer_time', 'REtype_CO_orig_time', 'REtype_PU_orig_time', 'REtype_SF_orig_time', 'investor_orig_time', 'balance_orig_time', 'FICO_orig_time', 'LTV_orig_time', 'Interest_Rate_orig_time', 'hpi_orig_time', 'default_time', 'payoff_time', 'status_time', 'sample']\n"
     ]
    }
   ],
   "source": [
    "print(f\"The individual columns are: {list(df.columns)}\")"
   ]
  },
  {
   "cell_type": "markdown",
   "id": "a141e06e",
   "metadata": {},
   "source": [
    "This is in line with the descriptions from the files metadata. Let's see if we have any problems with missing values"
   ]
  },
  {
   "cell_type": "code",
   "execution_count": 11,
   "id": "dc0e9015",
   "metadata": {},
   "outputs": [
    {
     "data": {
      "text/plain": [
       "id                             0\n",
       "time                           0\n",
       "orig_time                      0\n",
       "first_time                     0\n",
       "mat_time                       0\n",
       "balance_time                   0\n",
       "LTV_time                     270\n",
       "interest_rate_time             0\n",
       "hpi_time                       0\n",
       "gdp_time                       0\n",
       "uer_time                       0\n",
       "REtype_CO_orig_time            0\n",
       "REtype_PU_orig_time            0\n",
       "REtype_SF_orig_time            0\n",
       "investor_orig_time             0\n",
       "balance_orig_time              0\n",
       "FICO_orig_time                 0\n",
       "LTV_orig_time                  0\n",
       "Interest_Rate_orig_time        0\n",
       "hpi_orig_time                  0\n",
       "default_time               61325\n",
       "payoff_time                61325\n",
       "status_time                61325\n",
       "sample                         0\n",
       "dtype: int64"
      ]
     },
     "execution_count": 11,
     "metadata": {},
     "output_type": "execute_result"
    }
   ],
   "source": [
    "df.isna().sum()"
   ]
  },
  {
   "cell_type": "markdown",
   "id": "08ab3f43",
   "metadata": {},
   "source": [
    "The only problem we might encounter is with the LTV ratio at observation time. Since they make up a minority of the data, we can likely leave these rows out."
   ]
  }
 ],
 "metadata": {
  "kernelspec": {
   "display_name": "Python 3 (ipykernel)",
   "language": "python",
   "name": "python3"
  },
  "language_info": {
   "codemirror_mode": {
    "name": "ipython",
    "version": 3
   },
   "file_extension": ".py",
   "mimetype": "text/x-python",
   "name": "python",
   "nbconvert_exporter": "python",
   "pygments_lexer": "ipython3",
   "version": "3.10.0"
  }
 },
 "nbformat": 4,
 "nbformat_minor": 5
}
