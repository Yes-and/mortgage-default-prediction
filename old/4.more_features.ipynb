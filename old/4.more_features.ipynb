{
 "cells": [
  {
   "cell_type": "code",
   "execution_count": 1,
   "id": "5164772f",
   "metadata": {},
   "outputs": [],
   "source": [
    "import numpy as np\n",
    "import pandas as pd\n",
    "\n",
    "path_to_csv = \"../data/mortgage_transformed.csv\"\n",
    "df = pd.read_csv(path_to_csv)\n",
    "df.set_index(df.pop(\"Unnamed: 0\"), inplace=True)\n",
    "\n",
    "X = df.dropna(axis=0)\n",
    "y = X.pop(\"result\")"
   ]
  },
  {
   "cell_type": "markdown",
   "id": "22573e9f",
   "metadata": {},
   "source": [
    "# More features and feature enginnering\n",
    "\n",
    "Instead of focusing on the model right away, we will try to get most out of the data. We will fine tune the model in later notebooks.\n",
    "\n",
    "We already have some features from the previous notebook. Let's add more"
   ]
  },
  {
   "cell_type": "code",
   "execution_count": 6,
   "id": "7f22cfb6",
   "metadata": {},
   "outputs": [],
   "source": [
    "# features from previous notebook\n",
    "X[\"time_since_start\"] = X.time - X.first_time\n",
    "X[\"balance_change\"] = X.balance_orig_time-X.balance_time\n",
    "X[\"LTV_change\"] = X.LTV_time - X.LTV_orig_time\n",
    "\n",
    "# new features\n",
    "X[\"interest_rate_change\"] = X.interest_rate_time - X.Interest_Rate_orig_time\n",
    "X[\"hpi_change\"] = X.hpi_time - X.hpi_orig_time"
   ]
  },
  {
   "cell_type": "code",
   "execution_count": 7,
   "id": "1f9d80d1",
   "metadata": {},
   "outputs": [],
   "source": [
    "from sklearn.model_selection import train_test_split\n",
    "\n",
    "desirable_columns = [\"time_since_start\", \"balance_change\", \"LTV_change\", \"interest_rate_change\", \"hpi_change\"]\n",
    "\n",
    "X_train, X_valid, y_train, y_valid = train_test_split(\n",
    "    X[desirable_columns], y,\n",
    "    train_size=0.7,\n",
    "    test_size=0.3)"
   ]
  },
  {
   "cell_type": "code",
   "execution_count": 8,
   "id": "4209be84",
   "metadata": {},
   "outputs": [
    {
     "name": "stderr",
     "output_type": "stream",
     "text": [
      "C:\\Users\\vojte\\Documents\\GitHub\\mortgage-default-prediction\\venv\\lib\\site-packages\\xgboost\\compat.py:36: FutureWarning: pandas.Int64Index is deprecated and will be removed from pandas in a future version. Use pandas.Index with the appropriate dtype instead.\n",
      "  from pandas import MultiIndex, Int64Index\n"
     ]
    }
   ],
   "source": [
    "# model scoring\n",
    "from xgboost import XGBClassifier\n",
    "from sklearn.metrics import accuracy_score\n",
    "\n",
    "def score_model(X_train, y_train, X_valid, y_valid, n_estimators=100, learning_rate=0.1):\n",
    "    model = XGBClassifier(\n",
    "                n_estimators = n_estimators,\n",
    "                learning_rate = learning_rate,\n",
    "                n_jobs = 5,\n",
    "                eval_metric='mlogloss'\n",
    "            )\n",
    "    \n",
    "    model.fit(X_train, y_train)\n",
    "    predictions = model.predict(X_valid)\n",
    "    \n",
    "    accuracy = accuracy_score(predictions, y_valid)\n",
    "    return accuracy"
   ]
  },
  {
   "cell_type": "code",
   "execution_count": 9,
   "id": "d378d5aa",
   "metadata": {},
   "outputs": [
    {
     "name": "stderr",
     "output_type": "stream",
     "text": [
      "C:\\Users\\vojte\\Documents\\GitHub\\mortgage-default-prediction\\venv\\lib\\site-packages\\xgboost\\sklearn.py:1224: UserWarning: The use of label encoder in XGBClassifier is deprecated and will be removed in a future release. To remove this warning, do the following: 1) Pass option use_label_encoder=False when constructing XGBClassifier object; and 2) Encode your labels (y) as integers starting with 0, i.e. 0, 1, 2, ..., [num_class - 1].\n",
      "  warnings.warn(label_encoder_deprecation_msg, UserWarning)\n",
      "C:\\Users\\vojte\\Documents\\GitHub\\mortgage-default-prediction\\venv\\lib\\site-packages\\xgboost\\data.py:262: FutureWarning: pandas.Int64Index is deprecated and will be removed from pandas in a future version. Use pandas.Index with the appropriate dtype instead.\n",
      "  elif isinstance(data.columns, (pd.Int64Index, pd.RangeIndex)):\n",
      "C:\\Users\\vojte\\Documents\\GitHub\\mortgage-default-prediction\\venv\\lib\\site-packages\\xgboost\\sklearn.py:1224: UserWarning: The use of label encoder in XGBClassifier is deprecated and will be removed in a future release. To remove this warning, do the following: 1) Pass option use_label_encoder=False when constructing XGBClassifier object; and 2) Encode your labels (y) as integers starting with 0, i.e. 0, 1, 2, ..., [num_class - 1].\n",
      "  warnings.warn(label_encoder_deprecation_msg, UserWarning)\n",
      "C:\\Users\\vojte\\Documents\\GitHub\\mortgage-default-prediction\\venv\\lib\\site-packages\\xgboost\\data.py:262: FutureWarning: pandas.Int64Index is deprecated and will be removed from pandas in a future version. Use pandas.Index with the appropriate dtype instead.\n",
      "  elif isinstance(data.columns, (pd.Int64Index, pd.RangeIndex)):\n",
      "C:\\Users\\vojte\\Documents\\GitHub\\mortgage-default-prediction\\venv\\lib\\site-packages\\xgboost\\sklearn.py:1224: UserWarning: The use of label encoder in XGBClassifier is deprecated and will be removed in a future release. To remove this warning, do the following: 1) Pass option use_label_encoder=False when constructing XGBClassifier object; and 2) Encode your labels (y) as integers starting with 0, i.e. 0, 1, 2, ..., [num_class - 1].\n",
      "  warnings.warn(label_encoder_deprecation_msg, UserWarning)\n",
      "C:\\Users\\vojte\\Documents\\GitHub\\mortgage-default-prediction\\venv\\lib\\site-packages\\xgboost\\data.py:262: FutureWarning: pandas.Int64Index is deprecated and will be removed from pandas in a future version. Use pandas.Index with the appropriate dtype instead.\n",
      "  elif isinstance(data.columns, (pd.Int64Index, pd.RangeIndex)):\n"
     ]
    },
    {
     "name": "stdout",
     "output_type": "stream",
     "text": [
      "The ideal number of estimators is 100 with an accuracy of 0.6607516808111981\n"
     ]
    }
   ],
   "source": [
    "# we will try different number of estimators to see, which is the best fit\n",
    "estimator_count = [25, 50, 100, 200, 300, 400, 800]\n",
    "\n",
    "last_accuracy = 0\n",
    "for n_estimators in estimator_count:\n",
    "    accuracy = score_model(\n",
    "        X_train, y_train, X_valid, y_valid,\n",
    "        n_estimators=n_estimators,\n",
    "        learning_rate=0.3 # let's speed things up\n",
    "    )\n",
    "    if accuracy > last_accuracy:\n",
    "        last_accuracy = accuracy\n",
    "    else:\n",
    "        print(f\"The ideal number of estimators is {n_estimators} with an accuracy of {accuracy}\")\n",
    "        break"
   ]
  },
  {
   "cell_type": "markdown",
   "id": "613131b1",
   "metadata": {},
   "source": [
    "# Results\n",
    "\n",
    "This is not all much better than the previous one. We will try to infer hidden relationships from the data in the next notebook"
   ]
  }
 ],
 "metadata": {
  "kernelspec": {
   "display_name": "Python 3 (ipykernel)",
   "language": "python",
   "name": "python3"
  },
  "language_info": {
   "codemirror_mode": {
    "name": "ipython",
    "version": 3
   },
   "file_extension": ".py",
   "mimetype": "text/x-python",
   "name": "python",
   "nbconvert_exporter": "python",
   "pygments_lexer": "ipython3",
   "version": "3.10.0"
  }
 },
 "nbformat": 4,
 "nbformat_minor": 5
}
