{
 "cells": [
  {
   "cell_type": "code",
   "execution_count": 3,
   "id": "769511ef",
   "metadata": {},
   "outputs": [],
   "source": [
    "import numpy as np\n",
    "import pandas as pd\n",
    "\n",
    "path_to_csv = \"../data/mortgage_transformed.csv\"\n",
    "df = pd.read_csv(path_to_csv)\n",
    "df.set_index(df.pop(\"Unnamed: 0\"), inplace=True)\n",
    "\n",
    "X = df.dropna(axis=0)\n",
    "y = X.pop(\"result\")"
   ]
  },
  {
   "cell_type": "code",
   "execution_count": 4,
   "id": "80d9ce24",
   "metadata": {},
   "outputs": [],
   "source": [
    "%matplotlib inline\n",
    "import matplotlib.pyplot as plt"
   ]
  },
  {
   "cell_type": "code",
   "execution_count": 5,
   "id": "f3eec0d0",
   "metadata": {},
   "outputs": [],
   "source": [
    "# custom features\n",
    "X[\"time_since_start\"] = X.time - X.orig_time\n",
    "X[\"time_until_end\"] = X.mat_time - X.time\n",
    "X[\"mortgage_duration\"] = X.mat_time - X.orig_time\n",
    "X[\"balance_change\"] = X.balance_orig_time-X.balance_time\n",
    "X[\"LTV_change\"] = X.LTV_time - X.LTV_orig_time\n",
    "X[\"interest_change\"] = X.interest_rate_time - X.Interest_Rate_orig_time\n",
    "# X[\"interest_change_as_fraction\"] = X.interest_change / X.Interest_Rate_orig_time\n",
    "X[\"hpi_change\"] = X.hpi_time - X.hpi_orig_time"
   ]
  },
  {
   "cell_type": "code",
   "execution_count": 6,
   "id": "72df433c",
   "metadata": {},
   "outputs": [],
   "source": [
    "# select useful columns\n",
    "used_columns = [\n",
    "    \"time_since_start\", \"time_until_end\", \"mortgage_duration\",\n",
    "    \"balance_time\", \"balance_orig_time\", \"balance_change\",\n",
    "    \"LTV_time\", \"LTV_orig_time\", \"LTV_change\",\n",
    "    \"interest_rate_time\", \"Interest_Rate_orig_time\", \"interest_change\",\n",
    "    #\"interest_change_as_fraction\",\n",
    "    \"hpi_time\", \"hpi_orig_time\",\n",
    "    \"hpi_change\", \"uer_time\"\n",
    "]"
   ]
  },
  {
   "cell_type": "code",
   "execution_count": 7,
   "id": "50f7a5b5",
   "metadata": {},
   "outputs": [],
   "source": [
    "# standardize the data\n",
    "X_scaled = X.loc[:, used_columns]\n",
    "X_scaled = (X_scaled - X_scaled.mean(axis=0)) / X_scaled.std(axis=0)"
   ]
  },
  {
   "cell_type": "code",
   "execution_count": null,
   "id": "446dc6bf",
   "metadata": {},
   "outputs": [],
   "source": []
  }
 ],
 "metadata": {
  "kernelspec": {
   "display_name": "Python 3 (ipykernel)",
   "language": "python",
   "name": "python3"
  },
  "language_info": {
   "codemirror_mode": {
    "name": "ipython",
    "version": 3
   },
   "file_extension": ".py",
   "mimetype": "text/x-python",
   "name": "python",
   "nbconvert_exporter": "python",
   "pygments_lexer": "ipython3",
   "version": "3.10.0"
  }
 },
 "nbformat": 4,
 "nbformat_minor": 5
}
